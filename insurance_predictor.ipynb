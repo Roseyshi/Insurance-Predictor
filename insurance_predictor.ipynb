{
 "cells": [
  {
   "cell_type": "markdown",
   "id": "e1a1f5af",
   "metadata": {},
   "source": [
    "### The objective of this project is to identify which of these predictor variables a has a significant importance on the insurance sharges that an insurance company pays out.\n",
    "\n",
    "#### We will use stasmodel's OLS model and sklearn's Random Forest Regressor to determine if there will be a difference in their reults on which of the variables is  most important."
   ]
  },
  {
   "cell_type": "code",
   "execution_count": 1,
   "id": "b65a5781",
   "metadata": {},
   "outputs": [],
   "source": [
    "import pandas as pd\n",
    "import numpy as np\n",
    "import matplotlib.pyplot as plt"
   ]
  },
  {
   "cell_type": "code",
   "execution_count": 2,
   "id": "c68043b9",
   "metadata": {},
   "outputs": [
    {
     "data": {
      "text/html": [
       "<div>\n",
       "<style scoped>\n",
       "    .dataframe tbody tr th:only-of-type {\n",
       "        vertical-align: middle;\n",
       "    }\n",
       "\n",
       "    .dataframe tbody tr th {\n",
       "        vertical-align: top;\n",
       "    }\n",
       "\n",
       "    .dataframe thead th {\n",
       "        text-align: right;\n",
       "    }\n",
       "</style>\n",
       "<table border=\"1\" class=\"dataframe\">\n",
       "  <thead>\n",
       "    <tr style=\"text-align: right;\">\n",
       "      <th></th>\n",
       "      <th>age</th>\n",
       "      <th>sex</th>\n",
       "      <th>bmi</th>\n",
       "      <th>children</th>\n",
       "      <th>smoker</th>\n",
       "      <th>region</th>\n",
       "      <th>charges</th>\n",
       "    </tr>\n",
       "  </thead>\n",
       "  <tbody>\n",
       "    <tr>\n",
       "      <th>0</th>\n",
       "      <td>19</td>\n",
       "      <td>female</td>\n",
       "      <td>27.900</td>\n",
       "      <td>0</td>\n",
       "      <td>yes</td>\n",
       "      <td>southwest</td>\n",
       "      <td>16884.92400</td>\n",
       "    </tr>\n",
       "    <tr>\n",
       "      <th>1</th>\n",
       "      <td>18</td>\n",
       "      <td>male</td>\n",
       "      <td>33.770</td>\n",
       "      <td>1</td>\n",
       "      <td>no</td>\n",
       "      <td>southeast</td>\n",
       "      <td>1725.55230</td>\n",
       "    </tr>\n",
       "    <tr>\n",
       "      <th>2</th>\n",
       "      <td>28</td>\n",
       "      <td>male</td>\n",
       "      <td>33.000</td>\n",
       "      <td>3</td>\n",
       "      <td>no</td>\n",
       "      <td>southeast</td>\n",
       "      <td>4449.46200</td>\n",
       "    </tr>\n",
       "    <tr>\n",
       "      <th>3</th>\n",
       "      <td>33</td>\n",
       "      <td>male</td>\n",
       "      <td>22.705</td>\n",
       "      <td>0</td>\n",
       "      <td>no</td>\n",
       "      <td>northwest</td>\n",
       "      <td>21984.47061</td>\n",
       "    </tr>\n",
       "    <tr>\n",
       "      <th>4</th>\n",
       "      <td>32</td>\n",
       "      <td>male</td>\n",
       "      <td>28.880</td>\n",
       "      <td>0</td>\n",
       "      <td>no</td>\n",
       "      <td>northwest</td>\n",
       "      <td>3866.85520</td>\n",
       "    </tr>\n",
       "  </tbody>\n",
       "</table>\n",
       "</div>"
      ],
      "text/plain": [
       "   age     sex     bmi  children smoker     region      charges\n",
       "0   19  female  27.900         0    yes  southwest  16884.92400\n",
       "1   18    male  33.770         1     no  southeast   1725.55230\n",
       "2   28    male  33.000         3     no  southeast   4449.46200\n",
       "3   33    male  22.705         0     no  northwest  21984.47061\n",
       "4   32    male  28.880         0     no  northwest   3866.85520"
      ]
     },
     "execution_count": 2,
     "metadata": {},
     "output_type": "execute_result"
    }
   ],
   "source": [
    "insurance = pd.read_csv(\"E:\\PROGRAMMING\\insurance.csv\")\n",
    "insurance.head()"
   ]
  },
  {
   "cell_type": "code",
   "execution_count": 3,
   "id": "5158b05a",
   "metadata": {},
   "outputs": [
    {
     "name": "stdout",
     "output_type": "stream",
     "text": [
      "<class 'pandas.core.frame.DataFrame'>\n",
      "RangeIndex: 1338 entries, 0 to 1337\n",
      "Data columns (total 7 columns):\n",
      " #   Column    Non-Null Count  Dtype  \n",
      "---  ------    --------------  -----  \n",
      " 0   age       1338 non-null   int64  \n",
      " 1   sex       1338 non-null   object \n",
      " 2   bmi       1338 non-null   float64\n",
      " 3   children  1338 non-null   int64  \n",
      " 4   smoker    1338 non-null   object \n",
      " 5   region    1338 non-null   object \n",
      " 6   charges   1338 non-null   float64\n",
      "dtypes: float64(2), int64(2), object(3)\n",
      "memory usage: 73.3+ KB\n"
     ]
    }
   ],
   "source": [
    "insurance.info()"
   ]
  },
  {
   "cell_type": "markdown",
   "id": "e67a5e06",
   "metadata": {},
   "source": [
    "#### We do not have any missing data so we are not worried about filling."
   ]
  },
  {
   "cell_type": "code",
   "execution_count": 4,
   "id": "5441c7cb",
   "metadata": {},
   "outputs": [],
   "source": [
    "from sklearn.preprocessing import OneHotEncoder"
   ]
  },
  {
   "cell_type": "code",
   "execution_count": 5,
   "id": "ac2c5a6d",
   "metadata": {},
   "outputs": [
    {
     "data": {
      "text/html": [
       "<div>\n",
       "<style scoped>\n",
       "    .dataframe tbody tr th:only-of-type {\n",
       "        vertical-align: middle;\n",
       "    }\n",
       "\n",
       "    .dataframe tbody tr th {\n",
       "        vertical-align: top;\n",
       "    }\n",
       "\n",
       "    .dataframe thead th {\n",
       "        text-align: right;\n",
       "    }\n",
       "</style>\n",
       "<table border=\"1\" class=\"dataframe\">\n",
       "  <thead>\n",
       "    <tr style=\"text-align: right;\">\n",
       "      <th></th>\n",
       "      <th>age</th>\n",
       "      <th>bmi</th>\n",
       "      <th>children</th>\n",
       "      <th>charges</th>\n",
       "      <th>sex_male</th>\n",
       "      <th>smoker_yes</th>\n",
       "      <th>region_northwest</th>\n",
       "      <th>region_southeast</th>\n",
       "      <th>region_southwest</th>\n",
       "    </tr>\n",
       "  </thead>\n",
       "  <tbody>\n",
       "    <tr>\n",
       "      <th>0</th>\n",
       "      <td>19</td>\n",
       "      <td>27.900</td>\n",
       "      <td>0</td>\n",
       "      <td>16884.92400</td>\n",
       "      <td>0.0</td>\n",
       "      <td>1.0</td>\n",
       "      <td>0.0</td>\n",
       "      <td>0.0</td>\n",
       "      <td>1.0</td>\n",
       "    </tr>\n",
       "    <tr>\n",
       "      <th>1</th>\n",
       "      <td>18</td>\n",
       "      <td>33.770</td>\n",
       "      <td>1</td>\n",
       "      <td>1725.55230</td>\n",
       "      <td>1.0</td>\n",
       "      <td>0.0</td>\n",
       "      <td>0.0</td>\n",
       "      <td>1.0</td>\n",
       "      <td>0.0</td>\n",
       "    </tr>\n",
       "    <tr>\n",
       "      <th>2</th>\n",
       "      <td>28</td>\n",
       "      <td>33.000</td>\n",
       "      <td>3</td>\n",
       "      <td>4449.46200</td>\n",
       "      <td>1.0</td>\n",
       "      <td>0.0</td>\n",
       "      <td>0.0</td>\n",
       "      <td>1.0</td>\n",
       "      <td>0.0</td>\n",
       "    </tr>\n",
       "    <tr>\n",
       "      <th>3</th>\n",
       "      <td>33</td>\n",
       "      <td>22.705</td>\n",
       "      <td>0</td>\n",
       "      <td>21984.47061</td>\n",
       "      <td>1.0</td>\n",
       "      <td>0.0</td>\n",
       "      <td>1.0</td>\n",
       "      <td>0.0</td>\n",
       "      <td>0.0</td>\n",
       "    </tr>\n",
       "    <tr>\n",
       "      <th>4</th>\n",
       "      <td>32</td>\n",
       "      <td>28.880</td>\n",
       "      <td>0</td>\n",
       "      <td>3866.85520</td>\n",
       "      <td>1.0</td>\n",
       "      <td>0.0</td>\n",
       "      <td>1.0</td>\n",
       "      <td>0.0</td>\n",
       "      <td>0.0</td>\n",
       "    </tr>\n",
       "  </tbody>\n",
       "</table>\n",
       "</div>"
      ],
      "text/plain": [
       "   age     bmi  children      charges  sex_male  smoker_yes  region_northwest  \\\n",
       "0   19  27.900         0  16884.92400       0.0         1.0               0.0   \n",
       "1   18  33.770         1   1725.55230       1.0         0.0               0.0   \n",
       "2   28  33.000         3   4449.46200       1.0         0.0               0.0   \n",
       "3   33  22.705         0  21984.47061       1.0         0.0               1.0   \n",
       "4   32  28.880         0   3866.85520       1.0         0.0               1.0   \n",
       "\n",
       "   region_southeast  region_southwest  \n",
       "0               0.0               1.0  \n",
       "1               1.0               0.0  \n",
       "2               1.0               0.0  \n",
       "3               0.0               0.0  \n",
       "4               0.0               0.0  "
      ]
     },
     "execution_count": 5,
     "metadata": {},
     "output_type": "execute_result"
    }
   ],
   "source": [
    "encoder = OneHotEncoder(drop = 'first')\n",
    "categorical = insurance[['sex', 'smoker', 'region']]\n",
    "insurance_encoded = encoder.fit_transform(categorical)\n",
    "insurance_encoded = pd.DataFrame(insurance_encoded.toarray(), columns = encoder.get_feature_names_out())\n",
    "insurance_encoded = pd.concat([insurance, insurance_encoded], axis = 1)\n",
    "insurance_encoded.drop(columns = ['sex', 'smoker', 'region'], inplace =True)\n",
    "insurance_encoded.head()"
   ]
  },
  {
   "cell_type": "code",
   "execution_count": 6,
   "id": "46e8916e",
   "metadata": {},
   "outputs": [],
   "source": [
    "from sklearn.preprocessing import StandardScaler"
   ]
  },
  {
   "cell_type": "code",
   "execution_count": 7,
   "id": "126e7c43",
   "metadata": {},
   "outputs": [],
   "source": [
    "scaler = StandardScaler()\n",
    "insurance_scaled = scaler.fit_transform(insurance_encoded)\n",
    "insurance_scaled = pd.DataFrame(insurance_scaled, columns = insurance_encoded.columns)"
   ]
  },
  {
   "cell_type": "code",
   "execution_count": 8,
   "id": "83f9bf1d",
   "metadata": {},
   "outputs": [
    {
     "data": {
      "text/html": [
       "<div>\n",
       "<style scoped>\n",
       "    .dataframe tbody tr th:only-of-type {\n",
       "        vertical-align: middle;\n",
       "    }\n",
       "\n",
       "    .dataframe tbody tr th {\n",
       "        vertical-align: top;\n",
       "    }\n",
       "\n",
       "    .dataframe thead th {\n",
       "        text-align: right;\n",
       "    }\n",
       "</style>\n",
       "<table border=\"1\" class=\"dataframe\">\n",
       "  <thead>\n",
       "    <tr style=\"text-align: right;\">\n",
       "      <th></th>\n",
       "      <th>age</th>\n",
       "      <th>bmi</th>\n",
       "      <th>children</th>\n",
       "      <th>charges</th>\n",
       "      <th>sex_male</th>\n",
       "      <th>smoker_yes</th>\n",
       "      <th>region_northwest</th>\n",
       "      <th>region_southeast</th>\n",
       "      <th>region_southwest</th>\n",
       "    </tr>\n",
       "  </thead>\n",
       "  <tbody>\n",
       "    <tr>\n",
       "      <th>0</th>\n",
       "      <td>-1.438764</td>\n",
       "      <td>-0.453320</td>\n",
       "      <td>-0.908614</td>\n",
       "      <td>0.298584</td>\n",
       "      <td>-1.010519</td>\n",
       "      <td>1.970587</td>\n",
       "      <td>-0.566418</td>\n",
       "      <td>-0.611324</td>\n",
       "      <td>1.765481</td>\n",
       "    </tr>\n",
       "    <tr>\n",
       "      <th>1</th>\n",
       "      <td>-1.509965</td>\n",
       "      <td>0.509621</td>\n",
       "      <td>-0.078767</td>\n",
       "      <td>-0.953689</td>\n",
       "      <td>0.989591</td>\n",
       "      <td>-0.507463</td>\n",
       "      <td>-0.566418</td>\n",
       "      <td>1.635795</td>\n",
       "      <td>-0.566418</td>\n",
       "    </tr>\n",
       "    <tr>\n",
       "      <th>2</th>\n",
       "      <td>-0.797954</td>\n",
       "      <td>0.383307</td>\n",
       "      <td>1.580926</td>\n",
       "      <td>-0.728675</td>\n",
       "      <td>0.989591</td>\n",
       "      <td>-0.507463</td>\n",
       "      <td>-0.566418</td>\n",
       "      <td>1.635795</td>\n",
       "      <td>-0.566418</td>\n",
       "    </tr>\n",
       "    <tr>\n",
       "      <th>3</th>\n",
       "      <td>-0.441948</td>\n",
       "      <td>-1.305531</td>\n",
       "      <td>-0.908614</td>\n",
       "      <td>0.719843</td>\n",
       "      <td>0.989591</td>\n",
       "      <td>-0.507463</td>\n",
       "      <td>1.765481</td>\n",
       "      <td>-0.611324</td>\n",
       "      <td>-0.566418</td>\n",
       "    </tr>\n",
       "    <tr>\n",
       "      <th>4</th>\n",
       "      <td>-0.513149</td>\n",
       "      <td>-0.292556</td>\n",
       "      <td>-0.908614</td>\n",
       "      <td>-0.776802</td>\n",
       "      <td>0.989591</td>\n",
       "      <td>-0.507463</td>\n",
       "      <td>1.765481</td>\n",
       "      <td>-0.611324</td>\n",
       "      <td>-0.566418</td>\n",
       "    </tr>\n",
       "  </tbody>\n",
       "</table>\n",
       "</div>"
      ],
      "text/plain": [
       "        age       bmi  children   charges  sex_male  smoker_yes  \\\n",
       "0 -1.438764 -0.453320 -0.908614  0.298584 -1.010519    1.970587   \n",
       "1 -1.509965  0.509621 -0.078767 -0.953689  0.989591   -0.507463   \n",
       "2 -0.797954  0.383307  1.580926 -0.728675  0.989591   -0.507463   \n",
       "3 -0.441948 -1.305531 -0.908614  0.719843  0.989591   -0.507463   \n",
       "4 -0.513149 -0.292556 -0.908614 -0.776802  0.989591   -0.507463   \n",
       "\n",
       "   region_northwest  region_southeast  region_southwest  \n",
       "0         -0.566418         -0.611324          1.765481  \n",
       "1         -0.566418          1.635795         -0.566418  \n",
       "2         -0.566418          1.635795         -0.566418  \n",
       "3          1.765481         -0.611324         -0.566418  \n",
       "4          1.765481         -0.611324         -0.566418  "
      ]
     },
     "execution_count": 8,
     "metadata": {},
     "output_type": "execute_result"
    }
   ],
   "source": [
    "insurance_scaled.head()"
   ]
  },
  {
   "cell_type": "code",
   "execution_count": 9,
   "id": "2f5456d5",
   "metadata": {},
   "outputs": [
    {
     "data": {
      "text/plain": [
       "charges             1.000000\n",
       "smoker_yes          0.787251\n",
       "age                 0.299008\n",
       "bmi                 0.198341\n",
       "region_southeast    0.073982\n",
       "children            0.067998\n",
       "sex_male            0.057292\n",
       "region_northwest   -0.039905\n",
       "region_southwest   -0.043210\n",
       "Name: charges, dtype: float64"
      ]
     },
     "execution_count": 9,
     "metadata": {},
     "output_type": "execute_result"
    }
   ],
   "source": [
    "correlation = insurance_scaled.corr()\n",
    "correlation_charges = correlation['charges'].sort_values(ascending = False)\n",
    "correlation_charges"
   ]
  },
  {
   "cell_type": "markdown",
   "id": "e00a0784",
   "metadata": {},
   "source": [
    "From this correlation, we find out that a a client who smokes has a high correlation with high insurance charges. However correlation does not mean causation so we move forward with identifying other possible predictor variables."
   ]
  },
  {
   "cell_type": "code",
   "execution_count": 10,
   "id": "bf02d0b2",
   "metadata": {},
   "outputs": [],
   "source": [
    "import seaborn as sns"
   ]
  },
  {
   "cell_type": "code",
   "execution_count": 11,
   "id": "779a897e",
   "metadata": {},
   "outputs": [
    {
     "data": {
      "image/png": "[encoded data removed]",
      "text/plain": [
       "<Figure size 1000x800 with 2 Axes>"
      ]
     },
     "metadata": {},
     "output_type": "display_data"
    }
   ],
   "source": [
    "plt.figure(figsize = (10,8))\n",
    "sns.heatmap(correlation, annot = False, cmap = 'coolwarm')\n",
    "plt.title('Correlation Heatmap')\n",
    "plt.show()"
   ]
  },
  {
   "cell_type": "code",
   "execution_count": 12,
   "id": "021bf526",
   "metadata": {},
   "outputs": [
    {
     "name": "stdout",
     "output_type": "stream",
     "text": [
      "                                 OLS Regression Results                                \n",
      "=======================================================================================\n",
      "Dep. Variable:                charges   R-squared (uncentered):                   0.751\n",
      "Model:                            OLS   Adj. R-squared (uncentered):              0.749\n",
      "Method:                 Least Squares   F-statistic:                              501.2\n",
      "Date:                Mon, 22 Apr 2024   Prob (F-statistic):                        0.00\n",
      "Time:                        17:30:47   Log-Likelihood:                         -968.66\n",
      "No. Observations:                1338   AIC:                                      1953.\n",
      "Df Residuals:                    1330   BIC:                                      1995.\n",
      "Df Model:                           8                                                  \n",
      "Covariance Type:            nonrobust                                                  \n",
      "====================================================================================\n",
      "                       coef    std err          t      P>|t|      [0.025      0.975]\n",
      "------------------------------------------------------------------------------------\n",
      "age                  0.2980      0.014     21.595      0.000       0.271       0.325\n",
      "bmi                  0.1708      0.014     11.865      0.000       0.143       0.199\n",
      "children             0.0473      0.014      3.452      0.001       0.020       0.074\n",
      "sex_male            -0.0054      0.014     -0.395      0.693      -0.032       0.022\n",
      "smoker_yes           0.7950      0.014     57.745      0.000       0.768       0.822\n",
      "region_northwest    -0.0125      0.017     -0.741      0.459      -0.046       0.021\n",
      "region_southeast    -0.0380      0.018     -2.163      0.031      -0.073      -0.004\n",
      "region_southwest    -0.0340      0.017     -2.010      0.045      -0.067      -0.001\n",
      "==============================================================================\n",
      "Omnibus:                      300.366   Durbin-Watson:                   2.088\n",
      "Prob(Omnibus):                  0.000   Jarque-Bera (JB):              718.887\n",
      "Skew:                           1.211   Prob(JB):                    7.86e-157\n",
      "Kurtosis:                       5.651   Cond. No.                         2.21\n",
      "==============================================================================\n",
      "\n",
      "Notes:\n",
      "[1] R² is computed without centering (uncentered) since the model does not contain a constant.\n",
      "[2] Standard Errors assume that the covariance matrix of the errors is correctly specified.\n"
     ]
    }
   ],
   "source": [
    "X = insurance_scaled.drop(columns = ['charges'], axis = 1)\n",
    "y = insurance_scaled['charges']\n",
    "\n",
    "import statsmodels.api as sm\n",
    "\n",
    "model = sm.OLS(y, X).fit()\n",
    "print(model.summary())"
   ]
  },
  {
   "cell_type": "markdown",
   "id": "b65e29f0",
   "metadata": {},
   "source": [
    "It is important to notice that in this case we did not get a warning of multicollinearity which was expected since our sex column had a direct correlation of 0 and 1 for female and male respectively. We will therefore reduce our variables depending on the importance of features on our target variable.\n",
    "\n",
    "We also notice that we got an uncentered R2 becasue we did not add a constant to our independent variables. It is good practice to do so, because it allows the model to estimate both the slope (coefficients) and the intercept of the regression line. In many real-world scenarios, it's rare for the relationship between variables to pass through the origin. Therefore, including a constant term allows the model to better capture the overall trend and variation in the data."
   ]
  },
  {
   "cell_type": "code",
   "execution_count": 13,
   "id": "e79f18b6",
   "metadata": {},
   "outputs": [],
   "source": [
    "from scipy.stats import pearsonr"
   ]
  },
  {
   "cell_type": "code",
   "execution_count": 14,
   "id": "d90d1687",
   "metadata": {},
   "outputs": [
    {
     "name": "stdout",
     "output_type": "stream",
     "text": [
      "                  Correlation_coefficient   P_Value\n",
      "sex_male                         0.057292  0.036133\n",
      "children                         0.067998  0.012852\n",
      "region_southeast                 0.073982  0.006783\n",
      "bmi                              0.198341  0.000000\n",
      "age                              0.299008  0.000000\n",
      "smoker_yes                       0.787251  0.000000\n"
     ]
    }
   ],
   "source": [
    "dict_cp = {}\n",
    "column_titles = [col for col in correlation.index if col != 'charges']\n",
    "\n",
    "for col in column_titles:\n",
    "    p_val = round(pearsonr(insurance_scaled[col], insurance_scaled['charges'])[1], 6)\n",
    "    dict_cp[col] = {'Correlation_coefficient': correlation.loc['charges', col],\n",
    "                    'P_Value': p_val}\n",
    "\n",
    "insurance_scaled_cp = pd.DataFrame(dict_cp).T\n",
    "insurance_scaled_cp = insurance_scaled_cp.sort_values('Correlation_coefficient')\n",
    "significant_correlations = insurance_scaled_cp[insurance_scaled_cp['P_Value'] < 0.05]\n",
    "print(significant_correlations)"
   ]
  },
  {
   "cell_type": "markdown",
   "id": "71f1e71c",
   "metadata": {},
   "source": [
    "The above features are below our significance level of 0.05 and have higher correlation coefficient as compared to the unlisted  2 features. "
   ]
  },
  {
   "cell_type": "code",
   "execution_count": 15,
   "id": "fcade649",
   "metadata": {},
   "outputs": [
    {
     "name": "stdout",
     "output_type": "stream",
     "text": [
      "Variables with high autocorrelation: []\n"
     ]
    }
   ],
   "source": [
    "high_autocorrelation_vars = []\n",
    "\n",
    "# Threshold for high autocorrelation\n",
    "autocorrelation_threshold = 0.5  # Adjust as needed\n",
    "\n",
    "# Compute autocorrelation for each significant variable\n",
    "for var in significant_correlations.index:\n",
    "    autocorr = insurance_scaled[var].autocorr()\n",
    "    if abs(autocorr) > autocorrelation_threshold:\n",
    "        high_autocorrelation_vars.append(var)\n",
    "        print(f\"Variable '{var}' has high autocorrelation: {autocorr}\")\n",
    "\n",
    "print(\"Variables with high autocorrelation:\", high_autocorrelation_vars)"
   ]
  },
  {
   "cell_type": "markdown",
   "id": "011dcfe1",
   "metadata": {},
   "source": [
    "None of our features are autocorrelated"
   ]
  },
  {
   "cell_type": "code",
   "execution_count": 16,
   "id": "e513b3a0",
   "metadata": {},
   "outputs": [
    {
     "name": "stdout",
     "output_type": "stream",
     "text": [
      "                                 OLS Regression Results                                \n",
      "=======================================================================================\n",
      "Dep. Variable:                charges   R-squared (uncentered):                   0.750\n",
      "Model:                            OLS   Adj. R-squared (uncentered):              0.749\n",
      "Method:                 Least Squares   F-statistic:                              666.5\n",
      "Date:                Mon, 22 Apr 2024   Prob (F-statistic):                        0.00\n",
      "Time:                        17:30:47   Log-Likelihood:                         -970.74\n",
      "No. Observations:                1338   AIC:                                      1953.\n",
      "Df Residuals:                    1332   BIC:                                      1985.\n",
      "Df Model:                           6                                                  \n",
      "Covariance Type:            nonrobust                                                  \n",
      "====================================================================================\n",
      "                       coef    std err          t      P>|t|      [0.025      0.975]\n",
      "------------------------------------------------------------------------------------\n",
      "age                  0.2982      0.014     21.592      0.000       0.271       0.325\n",
      "bmi                  0.1682      0.014     11.727      0.000       0.140       0.196\n",
      "smoker_yes           0.7956      0.014     57.763      0.000       0.769       0.823\n",
      "region_southeast    -0.0213      0.014     -1.491      0.136      -0.049       0.007\n",
      "children             0.0467      0.014      3.404      0.001       0.020       0.074\n",
      "sex_male            -0.0053      0.014     -0.388      0.698      -0.032       0.022\n",
      "==============================================================================\n",
      "Omnibus:                      302.539   Durbin-Watson:                   2.089\n",
      "Prob(Omnibus):                  0.000   Jarque-Bera (JB):              725.178\n",
      "Skew:                           1.219   Prob(JB):                    3.39e-158\n",
      "Kurtosis:                       5.658   Cond. No.                         1.37\n",
      "==============================================================================\n",
      "\n",
      "Notes:\n",
      "[1] R² is computed without centering (uncentered) since the model does not contain a constant.\n",
      "[2] Standard Errors assume that the covariance matrix of the errors is correctly specified.\n"
     ]
    }
   ],
   "source": [
    "important_features = insurance_scaled[['age', 'bmi', 'smoker_yes', 'region_southeast', 'children', 'sex_male']]\n",
    "\n",
    "X = important_features\n",
    "y = insurance_scaled['charges']\n",
    "\n",
    "model = sm.OLS(y, X).fit()\n",
    "print(model.summary())"
   ]
  },
  {
   "cell_type": "markdown",
   "id": "0f30cf1b",
   "metadata": {},
   "source": [
    "There wasn't much difference in the perfromance of the model between when we used all the features and when we discarded a few."
   ]
  },
  {
   "cell_type": "markdown",
   "id": "05b5be61",
   "metadata": {},
   "source": [
    "#### Using Random Forest"
   ]
  },
  {
   "cell_type": "code",
   "execution_count": 17,
   "id": "24cd9a8a",
   "metadata": {},
   "outputs": [],
   "source": [
    "from sklearn.ensemble import RandomForestRegressor"
   ]
  },
  {
   "cell_type": "code",
   "execution_count": 18,
   "id": "a6c8e6ec",
   "metadata": {},
   "outputs": [],
   "source": [
    "from sklearn.model_selection import train_test_split"
   ]
  },
  {
   "cell_type": "code",
   "execution_count": 19,
   "id": "6dd732ed",
   "metadata": {},
   "outputs": [
    {
     "name": "stdout",
     "output_type": "stream",
     "text": [
      "Feature: smoker_yes, Importance: 0.6841504159064493\n",
      "Feature: bmi, Importance: 0.18222364415217177\n",
      "Feature: age, Importance: 0.12101872115649477\n",
      "Feature: children, Importance: 0.009629370028229164\n",
      "Feature: region_northwest, Importance: 0.0011046415784475923\n",
      "Feature: region_southwest, Importance: 0.0009040590934162226\n",
      "Feature: sex_male, Importance: 0.0005201746298247851\n",
      "Feature: region_southeast, Importance: 0.00044897345496641873\n"
     ]
    }
   ],
   "source": [
    "rf = RandomForestRegressor(n_estimators = 100, max_depth = 5)\n",
    "\n",
    "X = insurance_scaled.drop(['charges'], axis = 1)\n",
    "y = insurance_scaled['charges']\n",
    "\n",
    "X_train, X_test, y_train, y_test = train_test_split(X, y, test_size = 0.2, random_state = 42)\n",
    "\n",
    "rf.fit(X_train, y_train)\n",
    "predictions = rf.predict(X_test)\n",
    "\n",
    "feature_importances = rf.feature_importances_\n",
    "sorted_indices = feature_importances.argsort()[::-1]  # Sort indices in descending order\n",
    "sorted_features = X.columns[sorted_indices]\n",
    "sorted_importances = feature_importances[sorted_indices]\n",
    "for feature, importance in zip(sorted_features, sorted_importances):\n",
    "    print(f\"Feature: {feature}, Importance: {importance}\")"
   ]
  },
  {
   "cell_type": "markdown",
   "id": "2b434495",
   "metadata": {},
   "source": [
    "Both OLS and Random Forest show that:\n",
    "1. Smoking customer results in a high insurance charge that the insurance company has to pay out.\n",
    "2. BMI and age come in second alternatively.\n",
    "However more analysis can be carried out on which of the two has a higher efeect. "
   ]
  },
  {
   "cell_type": "markdown",
   "id": "339ff91f",
   "metadata": {},
   "source": [
    "#### This insurance company will therefore be keen on checking whether the customer is a smoker or not."
   ]
  },
  {
   "cell_type": "code",
   "execution_count": null,
   "id": "7d389c2d",
   "metadata": {},
   "outputs": [],
   "source": []
  }
 ],
 "metadata": {
  "kernelspec": {
   "display_name": "Python 3 (ipykernel)",
   "language": "python",
   "name": "python3"
  },
  "language_info": {
   "codemirror_mode": {
    "name": "ipython",
    "version": 3
   },
   "file_extension": ".py",
   "mimetype": "text/x-python",
   "name": "python",
   "nbconvert_exporter": "python",
   "pygments_lexer": "ipython3",
   "version": "3.10.13"
  }
 },
 "nbformat": 4,
 "nbformat_minor": 5
}
